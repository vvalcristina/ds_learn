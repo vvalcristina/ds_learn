{
 "cells": [
  {
   "cell_type": "markdown",
   "metadata": {},
   "source": [
    "# <font color='blue'>Data Science Academy</font>\n",
    "# <font color='blue'>Matemática Para Machine Learning</font>"
   ]
  },
  {
   "cell_type": "markdown",
   "metadata": {},
   "source": [
    "## Lista de Exercícios  - Capítulo 6"
   ]
  },
  {
   "cell_type": "markdown",
   "metadata": {},
   "source": [
    "O objetivo desta lista de exercícios é você praticar os principais conceitos estudados neste capítulo, ao mesmo tempo que desenvolve suas habilidades em lógica de programação com a linguagem Python. \n",
    "\n",
    "Caso tenha dúvidas, isso é absolutamente normal e faça um trabalho de pesquisa a fim de relembrar o formato das operações matemáticas.\n",
    "\n",
    "Quando encontrar o formato de uma operação que resolva o exercício proposto, use a linguagem Python para representar esta operação. Em essência, é assim que aplicamos Matemática Para Machine Learning, construindo algoritmos e representando esses algoritmos em linguagem de programação."
   ]
  },
  {
   "cell_type": "markdown",
   "metadata": {},
   "source": [
    "Divirta-se!!"
   ]
  },
  {
   "cell_type": "markdown",
   "metadata": {},
   "source": [
    "### Exercício 1 \n",
    "\n",
    "- Use numpy.linspace () para gerar 1000 valores uniformemente espaçados entre 0 e 50 e atribua a x.\n",
    "- Transforme x usando a equação y = 30x + 1000 e atribua o resultado a y1.\n",
    "- Transforme x usando a equação y = 50x + 100 e atribua o resultado a y2.\n",
    "\n",
    "Gere 2 gráficos de linha no mesmo plot:\n",
    "\n",
    "- Um com x no eixo x e y1 no eixo y. Defina a cor da linha para \"laranja\".\n",
    "- Um com x no eixo x e y2 no eixo y. Defina a cor da linha para \"azul\".\n"
   ]
  },
  {
   "cell_type": "code",
   "execution_count": 1,
   "metadata": {},
   "outputs": [
    {
     "ename": "AttributeError",
     "evalue": "module 'numpy' has no attribute 'linespace'",
     "output_type": "error",
     "traceback": [
      "\u001b[0;31m---------------------------------------------------------------------------\u001b[0m",
      "\u001b[0;31mAttributeError\u001b[0m                            Traceback (most recent call last)",
      "\u001b[0;32m<ipython-input-1-a5546b0804f0>\u001b[0m in \u001b[0;36m<module>\u001b[0;34m\u001b[0m\n\u001b[1;32m      5\u001b[0m \u001b[0mget_ipython\u001b[0m\u001b[0;34m(\u001b[0m\u001b[0;34m)\u001b[0m\u001b[0;34m.\u001b[0m\u001b[0mrun_line_magic\u001b[0m\u001b[0;34m(\u001b[0m\u001b[0;34m'matplotlib'\u001b[0m\u001b[0;34m,\u001b[0m \u001b[0;34m'inline'\u001b[0m\u001b[0;34m)\u001b[0m\u001b[0;34m\u001b[0m\u001b[0;34m\u001b[0m\u001b[0m\n\u001b[1;32m      6\u001b[0m \u001b[0;34m\u001b[0m\u001b[0m\n\u001b[0;32m----> 7\u001b[0;31m \u001b[0mx\u001b[0m \u001b[0;34m=\u001b[0m \u001b[0mnp\u001b[0m\u001b[0;34m.\u001b[0m\u001b[0mlinespace\u001b[0m\u001b[0;34m(\u001b[0m\u001b[0;36m0\u001b[0m\u001b[0;34m,\u001b[0m\u001b[0;36m50\u001b[0m\u001b[0;34m,\u001b[0m\u001b[0;36m1000\u001b[0m\u001b[0;34m)\u001b[0m\u001b[0;34m\u001b[0m\u001b[0;34m\u001b[0m\u001b[0m\n\u001b[0m\u001b[1;32m      8\u001b[0m \u001b[0;34m\u001b[0m\u001b[0m\n\u001b[1;32m      9\u001b[0m \u001b[0my1\u001b[0m \u001b[0;34m=\u001b[0m \u001b[0;36m30\u001b[0m\u001b[0;34m*\u001b[0m\u001b[0mx\u001b[0m \u001b[0;34m+\u001b[0m \u001b[0;36m1000\u001b[0m\u001b[0;34m\u001b[0m\u001b[0;34m\u001b[0m\u001b[0m\n",
      "\u001b[0;32m~/anaconda3/lib/python3.7/site-packages/numpy/__init__.py\u001b[0m in \u001b[0;36m__getattr__\u001b[0;34m(attr)\u001b[0m\n\u001b[1;32m    218\u001b[0m             \u001b[0;32melse\u001b[0m\u001b[0;34m:\u001b[0m\u001b[0;34m\u001b[0m\u001b[0;34m\u001b[0m\u001b[0m\n\u001b[1;32m    219\u001b[0m                 raise AttributeError(\"module {!r} has no attribute \"\n\u001b[0;32m--> 220\u001b[0;31m                                      \"{!r}\".format(__name__, attr))\n\u001b[0m\u001b[1;32m    221\u001b[0m \u001b[0;34m\u001b[0m\u001b[0m\n\u001b[1;32m    222\u001b[0m         \u001b[0;32mdef\u001b[0m \u001b[0m__dir__\u001b[0m\u001b[0;34m(\u001b[0m\u001b[0;34m)\u001b[0m\u001b[0;34m:\u001b[0m\u001b[0;34m\u001b[0m\u001b[0;34m\u001b[0m\u001b[0m\n",
      "\u001b[0;31mAttributeError\u001b[0m: module 'numpy' has no attribute 'linespace'"
     ]
    }
   ],
   "source": [
    "# Solução\n",
    "\n",
    "import numpy as np\n",
    "import matplotlib.pyplot as plt\n",
    "%matplotlib inline\n",
    "\n",
    "x = np.linspace(0,50,1000)\n",
    "\n",
    "y1 = 30*x + 1000\n",
    "y2 = 50*x + 100\n",
    "\n",
    "plt.plot(x, y1, c ='red')\n",
    "plt.plot(x, y2, c ='blue')"
   ]
  },
  {
   "cell_type": "markdown",
   "metadata": {},
   "source": [
    "### Exercício 2\n",
    "\n",
    "Considerando a matriz e vetor abaixo:\n",
    "\n",
    "- matriz = np.array([[2,1],[1,1]])  \n",
    "- v1 = np.array([2,3])\n",
    "\n",
    "Faça um dot product entre eles e grave no vetor v2. Crie um plot com os dois vetores, v1 e v2."
   ]
  },
  {
   "cell_type": "code",
   "execution_count": null,
   "metadata": {},
   "outputs": [],
   "source": [
    "# Solução\n",
    "\n",
    "import matplotlib.pyplot as plt\n",
    "import numpy as np\n",
    "%matplotlib inline\n"
   ]
  },
  {
   "cell_type": "markdown",
   "metadata": {},
   "source": [
    "### Exercício 3\n",
    "\n",
    "Sempre que um vetor contém 2 ou 3 elementos, podemos visualizá-lo em uma grade de coordenadas. Normalmente, um vetor é visualizado em uma grade de coordenadas usando setas, não usando coordenadas numéricas. Para um vetor contendo dois elementos, o primeiro valor descreve a coordenada x enquanto o segundo valor descreve a coordenada y. Os vetores são geralmente iniciados da origem até o ponto descrito pelo vetor.\n",
    "\n",
    "As setas são usadas para visualizar vetores individuais porque enfatizam as duas propriedades principais de um vetor - direção e magnitude. A direção de um vetor descreve a maneira como ele aponta enquanto a magnitude descreve seu comprimento. \n",
    "\n",
    "Podemos visualizar vetores no matplotlib usando a função pyplot.quiver().\n",
    "https://matplotlib.org/api/pyplot_api.html#matplotlib.pyplot.quiver\n",
    "\n",
    "Esta função tem 4 parâmetros requeridos: X, Y, U, V. Os parâmetros X e Y correspondem às coordenadas nais quais queremos que o vetor comece e U e V correspondam às coordenadas que queremos que o vetor termine. \n",
    "\n",
    "Usando a função pyplot.quiver(), crie o plot para os vetores (2, 3), (-2, -3), (4, 3) e (1, 4). Cada vetor deve ter uma cor diferente."
   ]
  },
  {
   "cell_type": "code",
   "execution_count": null,
   "metadata": {},
   "outputs": [],
   "source": [
    "# Solução\n",
    "\n",
    "# Imports\n",
    "import matplotlib.pyplot as plt\n",
    "import numpy as np\n",
    "\n",
    "# Desenhamos o plano cartesiano\n",
    "plt.axhline(0, c='black', lw=0.5)\n",
    "plt.axvline(0, c='black', lw=0.5)\n",
    "plt.xlim(-5,5)\n",
    "plt.ylim(-5,5)\n"
   ]
  },
  {
   "cell_type": "markdown",
   "metadata": {},
   "source": [
    "### Exercício 4\n",
    "\n",
    "Como as linhas de uma matriz, os vetores podem ser adicionados e subtraídos. Quando adicionamos ou subtraímos vetores, elementos na mesma posição são adicionados ou subtraídos e um novo vetor é criado. \n",
    "\n",
    "Usando a função pyplot.quiver(), crie o plot que mostre a adição dos vetores (3, 0) e (0, 3). Os dois vetores também devem ser mostrados no plot"
   ]
  },
  {
   "cell_type": "code",
   "execution_count": null,
   "metadata": {},
   "outputs": [],
   "source": [
    "# Solução\n",
    "\n",
    "# Imports\n",
    "import matplotlib.pyplot as plt\n",
    "import numpy as np\n",
    "\n",
    "# Desenhamos o plano cartesiano\n",
    "plt.axhline(0, c='black', lw=0.5)\n",
    "plt.axvline(0, c='black', lw=0.5)\n",
    "plt.xlim(-4,4)\n",
    "plt.ylim(-1,4)\n"
   ]
  },
  {
   "cell_type": "markdown",
   "metadata": {},
   "source": [
    "### Exercício 5\n",
    "\n",
    "Podemos também dimensionar vetores multiplicando ou dividindo por um escalar (um número real). Entre adição vetorial, subtração vetorial, multiplicação escalar e divisão escalar, podemos combinar vetores de muitas maneiras diferentes. Ser capaz de combinar vetores para criar outros vetores é uma ideia-chave na álgebra linear.\n",
    "\n",
    "Usando a função pyplot.quiver(), crie um plot que mostre: \n",
    "\n",
    "- O vetor (3, 1)\n",
    "- O vetor resultado da operação (3, 1) + 2(1, 0)  \n",
    "- O vetor resultado da operação 3(3, 1) + 2(-1, -1) "
   ]
  },
  {
   "cell_type": "code",
   "execution_count": null,
   "metadata": {},
   "outputs": [],
   "source": [
    "# Solução\n",
    "\n",
    "# Imports\n",
    "import matplotlib.pyplot as plt\n",
    "import numpy as np\n",
    "\n",
    "# Desenhamos o plano cartesiano\n",
    "plt.axhline(0, c='black', lw=1)\n",
    "plt.axvline(0, c='black', lw=1)\n",
    "plt.xlim(0,9)\n",
    "plt.ylim(0,4)\n"
   ]
  },
  {
   "cell_type": "markdown",
   "metadata": {},
   "source": [
    "### Exercício 6\n",
    "\n",
    "Agora que você sabe trabalhar com os vetores de forma visual de como os vetores funcionam, vamos ver como podemos calcular usando vetores no NumPy. \n",
    "\n",
    "Multiplique vetor v1 abaixo por 2, multiplique o vetor v2 por 5 e adicione ambos os vetores em uma combinação linear. Atribua o vetor resultante a v3."
   ]
  },
  {
   "cell_type": "code",
   "execution_count": null,
   "metadata": {},
   "outputs": [],
   "source": [
    "# Solução\n",
    "\n",
    "import numpy as np\n"
   ]
  },
  {
   "cell_type": "markdown",
   "metadata": {},
   "source": [
    "### Exercício 7\n",
    "\n",
    "Outra operação de vetores é o produto escalar (dot product). O produto escalar é semelhante à multiplicação, mas envolve a multiplicação dos elementos nos vetores de uma maneira específica. Ambos os vetores precisam conter o mesmo número de elementos. Para calcular o produto escalar, precisamos somar os produtos dos dois valores em cada posição em cada vetor.\n",
    "\n",
    "Ao contrário das outras operações vetoriais, o resultado de um produto escalar é um valor escalar, não um vetor. Para calcular o produto escalar entre dois vetores, precisamos usar a função numpy.dot(). Esta função aceita 2 objetos ndarray como os 2 parâmetros requeridos. A principal peculiaridade é que um dos dois vetores precisa ser representado como um vetor de linha enquanto o outro vetor de coluna.\n",
    "\n",
    "Calcule o dot product dos vetores v1 e v2 abaixo."
   ]
  },
  {
   "cell_type": "code",
   "execution_count": null,
   "metadata": {},
   "outputs": [],
   "source": [
    "# Solução\n",
    "\n",
    "import numpy as np\n"
   ]
  },
  {
   "cell_type": "markdown",
   "metadata": {},
   "source": [
    "### Exercícios 8, 9 e 10\n",
    "\n",
    "Eu tenho três matrizes numpy:\n",
    "\n",
    "- X: uma matriz de 3073 x 49000\n",
    "- W: uma matriz de 10 x 3073\n",
    "- y: um vetor de 49000 x 1\n",
    "\n",
    "y contém valores entre 0 e 9, cada valor representa uma linha em W.\n",
    "\n",
    "Eu gostaria de adicionar a primeira coluna de X à linha em W dada pelo primeiro elemento em y. Ou seja se o primeiro elemento em y for 3, adicione a primeira coluna de X à quarta linha de W. Em seguida, adicione a segunda coluna de X à linha em W fornecida pelo segundo elemento em y, e assim por diante, até que todas as colunas de X sejam adicionadas à linha em W especificada por y, o que significa um total de 49.000 linhas adicionadas.\n",
    "\n",
    "W [y] + = X.T não resolve, porque isso não adicionará mais de um vetor a uma linha em W.\n",
    "\n",
    "Você consegue encontrar uma solução? (para reduzir o tempo de processamento e facilitar a demonstração da solução, usaremos matrizes com dimensões menores). Crie uma solução:\n",
    "\n",
    "1. Com loop\n",
    "2. Usando a função add.at() do NumPy\n",
    "3. Solução vetorizada com a função einsum() do NumPy\n",
    "\n",
    "Nota: Estou procurando por soluções vetorizadas. Ou seja não há loops. Esse seria o resultado esperado:\n",
    "\n",
    "W = [[17, 22, 16, 16],\n",
    "     [ 7, 11, 14, 17],\n",
    "     [ 8,  2, 10, 11]]"
   ]
  },
  {
   "cell_type": "markdown",
   "metadata": {},
   "source": [
    "Em matemática, especialmente em álgebra linear e teoria de matriz, a vetorização de uma matriz é uma transformação linear que converte a matriz em um vetor de coluna. Especificamente, a vetorização de uma matriz m × n A, indicada por vec(A), é o vetor da coluna mn × 1 obtido empilhando as colunas da matriz A uma sobre a outra."
   ]
  },
  {
   "cell_type": "code",
   "execution_count": null,
   "metadata": {},
   "outputs": [],
   "source": [
    "# Solução com loop\n",
    "\n",
    "import numpy as np\n",
    "\n",
    "a, b, c = 3, 4, 5\n",
    "\n",
    "np.random.seed(0)\n",
    "\n",
    "X = np.random.randint(10, size=(b,c))\n",
    "W = np.random.randint(10, size=(a,b))\n",
    "y = np.random.randint(a, size=(c,1))\n"
   ]
  },
  {
   "cell_type": "markdown",
   "metadata": {},
   "source": [
    "A função add.at() faz um cálculo sem buffer, contornando o buffer que impede que o W [y.ravel ()] + = X.T funcione. Ainda é iterativo, mas o loop foi movido para o código compilado. Não é vetorização verdadeira porque a ordem de aplicação é importante. A adição de uma linha de X.T depende dos resultados das linhas anteriores."
   ]
  },
  {
   "cell_type": "code",
   "execution_count": null,
   "metadata": {},
   "outputs": [],
   "source": [
    "# Solução com add.at() \n",
    "\n",
    "import numpy as np\n",
    "\n",
    "a, b, c = 3, 4, 5\n",
    "\n",
    "np.random.seed(0)\n",
    "\n",
    "X = np.random.randint(10, size=(b,c))\n",
    "W = np.random.randint(10, size=(a,b))\n",
    "y = np.random.randint(a, size=(c,1))\n"
   ]
  },
  {
   "cell_type": "markdown",
   "metadata": {},
   "source": [
    "O que faz o einsum? Imagine que temos duas matrizes multidimensionais, A e B. Agora vamos supor que queremos ...\n",
    "\n",
    "- Multiplicar A por B de uma maneira particular para criar uma nova matriz\n",
    "- Somar esta nova matriz ao longo de eixos específicos\n",
    "- Transpor os eixos da nova matriz em uma ordem específica.\n",
    "\n",
    "Há uma boa chance de que o einsum nos ajude a fazer isso mais rápido e com mais eficiência de memória que as combinações das funções NumPy, como multiplicação, soma e transposição, permitirão.\n",
    "\n",
    "Veja mais exemplos desta função neste excelente post: https://stackoverflow.com/questions/26089893/understanding-numpys-einsum"
   ]
  },
  {
   "cell_type": "code",
   "execution_count": null,
   "metadata": {},
   "outputs": [],
   "source": [
    "# Solução vetorizada\n",
    "# https://docs.scipy.org/doc/numpy/reference/generated/numpy.einsum.html\n",
    "\n",
    "import numpy as np\n",
    "\n",
    "a, b, c = 3, 4, 5\n",
    "\n",
    "np.random.seed(0)\n",
    "\n",
    "X = np.random.randint(10, size=(b,c))\n",
    "W = np.random.randint(10, size=(a,b))\n",
    "y = np.random.randint(a, size=(c,1))\n",
    "\n",
    "?np.einsum\n"
   ]
  },
  {
   "cell_type": "markdown",
   "metadata": {},
   "source": [
    "## Fim"
   ]
  }
 ],
 "metadata": {
  "kernelspec": {
   "display_name": "Python 3",
   "language": "python",
   "name": "python3"
  },
  "language_info": {
   "codemirror_mode": {
    "name": "ipython",
    "version": 3
   },
   "file_extension": ".py",
   "mimetype": "text/x-python",
   "name": "python",
   "nbconvert_exporter": "python",
   "pygments_lexer": "ipython3",
   "version": "3.7.6"
  }
 },
 "nbformat": 4,
 "nbformat_minor": 4
}
