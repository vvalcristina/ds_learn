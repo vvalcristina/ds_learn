{
 "cells": [
  {
   "cell_type": "markdown",
   "metadata": {},
   "source": [
    "# <font color='blue'>Data Science Academy</font>\n",
    "# <font color='blue'>Matemática Para Machine Learning</font>"
   ]
  },
  {
   "cell_type": "markdown",
   "metadata": {},
   "source": [
    "## Lista de Exercícios  - Capítulo 3 (Continuação Fundamentos da Matemática)"
   ]
  },
  {
   "cell_type": "markdown",
   "metadata": {},
   "source": [
    "O objetivo desta lista de exercícios é você praticar os principais conceitos estudados neste capítulo, ao mesmo tempo que desenvolve suas habilidades em lógica de programação com a linguagem Python. \n",
    "\n",
    "Caso tenha dúvidas, isso é absolutamente normal e faça um trabalho de pesquisa a fim de relembrar o formato das operações matemáticas.\n",
    "\n",
    "Quando encontrar o formato de uma operação que resolva o exercício proposto, use a linguagem Python para representar esta operação. Em essência, é assim que aplicamos Matemática Para Machine Learning, construindo algoritmos e representando esses algoritmos em linguagem de programação."
   ]
  },
  {
   "cell_type": "markdown",
   "metadata": {},
   "source": [
    "A maioria das pessoas considera a Matemática e a Física, assustadoras bestas das quais é melhor manter a distância. Computadores, no entanto, podem nos ajudar a domar a complexidade e a aritmética tediosa das manipulações associadas a esses assuntos. De fato, Matemática e Física são muito mais acessíveis, uma vez que você tem o poder de computadores do seu lado.\n",
    "\n",
    "Divirta-se!!"
   ]
  },
  {
   "cell_type": "markdown",
   "metadata": {},
   "source": [
    "### Exercício 1 - Crie uma função em Python que retorne o resultado do polinômio abaixo. Em seguida, defina x = 3 e execute a função."
   ]
  },
  {
   "cell_type": "code",
   "execution_count": 1,
   "metadata": {},
   "outputs": [
    {
     "data": {
      "image/png": "[encoded data removed]",
      "text/plain": [
       "<IPython.core.display.Image object>"
      ]
     },
     "execution_count": 1,
     "metadata": {},
     "output_type": "execute_result"
    }
   ],
   "source": [
    "from IPython.display import Image\n",
    "Image(\"images/img1.png\")"
   ]
  },
  {
   "cell_type": "markdown",
   "metadata": {},
   "source": [
    "Dica: Represente o polinômio usando operações aritméticas no retorno da sua função. Para x = 3 o resultado deve ser 54."
   ]
  },
  {
   "cell_type": "code",
   "execution_count": 2,
   "metadata": {},
   "outputs": [
    {
     "data": {
      "text/plain": [
       "54"
      ]
     },
     "execution_count": 2,
     "metadata": {},
     "output_type": "execute_result"
    }
   ],
   "source": [
    "# Solução\n",
    "def p(x):\n",
    "    funcao = x**4- 4*x**2 +3*x\n",
    "    return funcao\n",
    "\n",
    "x = 3\n",
    "p(x)"
   ]
  },
  {
   "cell_type": "markdown",
   "metadata": {},
   "source": [
    "### Exercício 2 - Dado o polinômio ax^3 + bx^2 + cx + d, solicite que o usuário digite o valor dos 4 coeficientes e o valor de x e resolva o polinômio.\n",
    "\n",
    "Dica 1: Use a função pow() do pacote math para representar operações de potência.\n",
    "\n",
    "Dica 2: Armazene os coeficientes digitados em uma lista Python."
   ]
  },
  {
   "cell_type": "code",
   "execution_count": 3,
   "metadata": {},
   "outputs": [
    {
     "name": "stdout",
     "output_type": "stream",
     "text": [
      "Digite os coeficientes da fórmula ax^3 + bx^2 + cx + d\n",
      "Digite o valor dos coeficientes: 4\n",
      "Digite o valor dos coeficientes: 5\n",
      "Digite o valor dos coeficientes: 6\n",
      "Digite o valor dos coeficientes: 7\n",
      "Digite o valor de x: 9\n",
      "O valor do polinômio é: 3382.0\n"
     ]
    }
   ],
   "source": [
    "# Solução\n",
    "\n",
    "import math\n",
    "print(\"Digite os coeficientes da fórmula ax^3 + bx^2 + cx + d\")\n",
    "\n",
    "lista = []\n",
    "\n",
    "for i in range(0,4):\n",
    "    a = int(input(\"Digite o valor dos coeficientes: \"))\n",
    "    lista.append(a)\n",
    "\n",
    "x = int(input(\"Digite o valor de x: \"))\n",
    "\n",
    "sum1 = 0\n",
    "j = 3\n",
    "\n",
    "\n",
    "for i in range(0,3):\n",
    "    while(j > 0):\n",
    "        sum1 = sum1 + (lista[i] * math.pow(x,j))\n",
    "        break\n",
    "    j = j - 1\n",
    "\n",
    "sum1 = sum1 + lista[3]\n",
    "\n",
    "\n",
    "print(\"O valor do polinômio é:\", sum1)"
   ]
  },
  {
   "cell_type": "markdown",
   "metadata": {},
   "source": [
    "### Matemática com Sympy\n",
    "\n",
    "O Sympy é um excelente pacote matemático para operações mais avançadas e facilita nosso trabalho em várias situações. Além disso, ele permite formatar as fórmulas de modo que a visualização fique mais amigável e profissional. Para isso, use init_printing() depois de importar o Sympy assim:"
   ]
  },
  {
   "cell_type": "markdown",
   "metadata": {},
   "source": [
    "Documentação do [Sympy](https://docs.sympy.org/latest/index.html)"
   ]
  },
  {
   "cell_type": "code",
   "execution_count": 4,
   "metadata": {},
   "outputs": [],
   "source": [
    "from sympy import *\n",
    "init_printing()"
   ]
  },
  {
   "cell_type": "markdown",
   "metadata": {},
   "source": [
    "### Exercício 3 - Usando o Sympy, resolva a equação $x^2 + 2x - 8 = 0$"
   ]
  },
  {
   "cell_type": "code",
   "execution_count": 5,
   "metadata": {},
   "outputs": [
    {
     "data": {
      "image/png": "[encoded data removed]",
      "text/latex": [
       "$\\displaystyle \\left[ -4, \\  2\\right]$"
      ],
      "text/plain": [
       "[-4, 2]"
      ]
     },
     "execution_count": 5,
     "metadata": {},
     "output_type": "execute_result"
    }
   ],
   "source": [
    "x = symbols('x')\n",
    "solve(x**2+2*x-8,x)"
   ]
  },
  {
   "cell_type": "markdown",
   "metadata": {},
   "source": [
    "### Exercício 4 - Use Sympy para apresentar a equação $ax^2 + bx + c = 0$ em seu formato simbólico"
   ]
  },
  {
   "cell_type": "code",
   "execution_count": 6,
   "metadata": {},
   "outputs": [
    {
     "data": {
      "image/png": "[encoded data removed]",
      "text/latex": [
       "$\\displaystyle \\left[ \\frac{- b + \\sqrt{- 4 a c + b^{2}}}{2 a}, \\  - \\frac{b + \\sqrt{- 4 a c + b^{2}}}{2 a}\\right]$"
      ],
      "text/plain": [
       "⎡        _____________   ⎛       _____________⎞ ⎤\n",
       "⎢       ╱           2    ⎜      ╱           2 ⎟ ⎥\n",
       "⎢-b + ╲╱  -4⋅a⋅c + b    -⎝b + ╲╱  -4⋅a⋅c + b  ⎠ ⎥\n",
       "⎢─────────────────────, ────────────────────────⎥\n",
       "⎣         2⋅a                     2⋅a           ⎦"
      ]
     },
     "execution_count": 6,
     "metadata": {},
     "output_type": "execute_result"
    }
   ],
   "source": [
    "x = symbols('x')\n",
    "a,b,c = symbols('a b c')\n",
    "solve(a*x**2 +b*x +c, x)"
   ]
  },
  {
   "cell_type": "markdown",
   "metadata": {},
   "source": [
    "### Exercício 5 - Use o \"subs\" do Sympy, para plugar os valores 1, 2 e -8 para os coeficientes a, b e c, respectivamente, na equação do Exercício 4.\n",
    "\n",
    "Dica: A função subs() recebe um dicionário Python como entrada, com a chave sendo o coeficiente e o valor, sendo o valor numérico."
   ]
  },
  {
   "cell_type": "markdown",
   "metadata": {},
   "source": [
    "Sobre o [subs](https://docs.sympy.org/latest/tutorial/basic_operations.html#substitution)"
   ]
  },
  {
   "cell_type": "code",
   "execution_count": 9,
   "metadata": {},
   "outputs": [
    {
     "data": {
      "image/png": "[encoded data removed]",
      "text/latex": [
       "$\\displaystyle \\left[ 2, \\  -4\\right]$"
      ],
      "text/plain": [
       "[2, -4]"
      ]
     },
     "execution_count": 9,
     "metadata": {},
     "output_type": "execute_result"
    }
   ],
   "source": [
    "a, b, c = symbols('a b c')\n",
    "resolver = solve(a*x**2 +b*x +c, x)\n",
    "[ resolver[0].subs({'a':1,'b':2,'c':-8}),\n",
    " resolver[1].subs({'a':1,'b':2,'c':-8})]"
   ]
  },
  {
   "cell_type": "markdown",
   "metadata": {},
   "source": [
    "### Um Pouco mais sobre o Sympy"
   ]
  },
  {
   "cell_type": "markdown",
   "metadata": {},
   "source": [
    "Para resolver um sistema * de equações *, você pode alimentar a função `solve` com a lista de equações como o primeiro argumento, e especifique a lista de incógnitas que você quer resolver como o segundo argumento. Por exemplo, para resolver por $ x $ e $ y $ no sistema de equações $ x + y = 3 $ e $ 3x - 2y = 0 $, use:"
   ]
  },
  {
   "cell_type": "code",
   "execution_count": 10,
   "metadata": {},
   "outputs": [
    {
     "data": {
      "image/png": "[encoded data removed]",
      "text/latex": [
       "$\\displaystyle \\left\\{ x : \\frac{6}{5}, \\  y : \\frac{9}{5}\\right\\}$"
      ],
      "text/plain": [
       "{x: 6/5, y: 9/5}"
      ]
     },
     "execution_count": 10,
     "metadata": {},
     "output_type": "execute_result"
    }
   ],
   "source": [
    "x, y = symbols('x y')\n",
    "solve([x + y - 3, 3*x - 2*y], [x, y])"
   ]
  },
  {
   "cell_type": "markdown",
   "metadata": {},
   "source": [
    "A função `solve` é como um canivete suíço que você pode usar para resolver todo tipo de problema. Suponha que você queira * completar o quadrado * no expressão $ x ^ 2 - 4x + 7 $, ou seja, você quer encontrar constantes $ h $ e $ k $\n",
    "tal que $ x ^ 2 -4x + 7 = (x-h) ^ 2 + k $. Não há uma função especial \"completar o quadrado \" em `SymPy`, mas você pode  resolver a equação $ (x - h) ^ 2 + k - (x ^ 2 - 4x + 7) = 0 $ para encontrar as incógnitas $ h $ e $ k $:"
   ]
  },
  {
   "cell_type": "code",
   "execution_count": 11,
   "metadata": {},
   "outputs": [
    {
     "data": {
      "image/png": "[encoded data removed]",
      "text/latex": [
       "$\\displaystyle \\left[ \\left( 2, \\  3\\right)\\right]$"
      ],
      "text/plain": [
       "[(2, 3)]"
      ]
     },
     "execution_count": 11,
     "metadata": {},
     "output_type": "execute_result"
    }
   ],
   "source": [
    "h, k = symbols('h k')\n",
    "solve( (x-h)**2 + k - (x**2-4*x+7), [h,k] )"
   ]
  },
  {
   "cell_type": "markdown",
   "metadata": {},
   "source": [
    "Aprenda os comandos básicos do `SymPy` e você nunca precisará sofrer outro cálculo aritmético entediante meticulosamente realizado à mão novamente! :-)"
   ]
  },
  {
   "cell_type": "markdown",
   "metadata": {},
   "source": [
    "### Exercício 6 - Usando a função expand() do Sympy, encontre a versão estendida do Polinômio P, abaixo.\n",
    "\n",
    "Dica: A versão estendida do polinômio é simplesmente aplicar as operações algébricas ao polinômio"
   ]
  },
  {
   "cell_type": "code",
   "execution_count": 12,
   "metadata": {},
   "outputs": [],
   "source": [
    "P = (x-1)*(x-2)*(x-3)"
   ]
  },
  {
   "cell_type": "code",
   "execution_count": 13,
   "metadata": {},
   "outputs": [
    {
     "data": {
      "image/png": "[encoded data removed]",
      "text/latex": [
       "$\\displaystyle x^{3} - 6 x^{2} + 11 x - 6$"
      ],
      "text/plain": [
       " 3      2           \n",
       "x  - 6⋅x  + 11⋅x - 6"
      ]
     },
     "execution_count": 13,
     "metadata": {},
     "output_type": "execute_result"
    }
   ],
   "source": [
    "P.expand()"
   ]
  },
  {
   "cell_type": "markdown",
   "metadata": {},
   "source": [
    "Quando o polinômio é expresso em sua forma expandida $ P (x) = x ^ 3 - 6x ^ 2 + 11x - 6 $, não podemos identificar imediatamente suas raízes. Esta é a razão pela qual a forma fatorada $ P (x) = (x - 1) (x - 2) (x - 3) $ é preferível. Para fatorar um polinômio, chame o método `factor` ou `simplify`:"
   ]
  },
  {
   "cell_type": "code",
   "execution_count": 14,
   "metadata": {},
   "outputs": [
    {
     "data": {
      "image/png": "[encoded data removed]",
      "text/latex": [
       "$\\displaystyle \\left(x - 3\\right) \\left(x - 2\\right) \\left(x - 1\\right)$"
      ],
      "text/plain": [
       "(x - 3)⋅(x - 2)⋅(x - 1)"
      ]
     },
     "execution_count": 14,
     "metadata": {},
     "output_type": "execute_result"
    }
   ],
   "source": [
    "P.factor()"
   ]
  },
  {
   "cell_type": "code",
   "execution_count": 15,
   "metadata": {},
   "outputs": [
    {
     "data": {
      "image/png": "[encoded data removed]",
      "text/latex": [
       "$\\displaystyle \\left(x - 3\\right) \\left(x - 2\\right) \\left(x - 1\\right)$"
      ],
      "text/plain": [
       "(x - 3)⋅(x - 2)⋅(x - 1)"
      ]
     },
     "execution_count": 15,
     "metadata": {},
     "output_type": "execute_result"
    }
   ],
   "source": [
    "P.simplify()"
   ]
  },
  {
   "cell_type": "markdown",
   "metadata": {},
   "source": [
    "Lembre-se de que as raízes do polinômio $ P(x) $ são definidas como soluções para a equação $ P(x) = 0 $. Nós podemos usar a função `solve` para encontrar as raízes do polinômio:"
   ]
  },
  {
   "cell_type": "code",
   "execution_count": 16,
   "metadata": {},
   "outputs": [
    {
     "data": {
      "image/png": "[encoded data removed]",
      "text/latex": [
       "$\\displaystyle \\left[ 1, \\  2, \\  3\\right]$"
      ],
      "text/plain": [
       "[1, 2, 3]"
      ]
     },
     "execution_count": 16,
     "metadata": {},
     "output_type": "execute_result"
    }
   ],
   "source": [
    "roots = solve(P,x)\n",
    "roots"
   ]
  },
  {
   "cell_type": "code",
   "execution_count": 17,
   "metadata": {},
   "outputs": [
    {
     "data": {
      "image/png": "[encoded data removed]",
      "text/latex": [
       "$\\displaystyle 0$"
      ],
      "text/plain": [
       "0"
      ]
     },
     "execution_count": 17,
     "metadata": {},
     "output_type": "execute_result"
    }
   ],
   "source": [
    "# Vamos checar se P é igual a (x-1) (x-2) (x-3)\n",
    "simplify( P - (x-roots[0])*(x-roots[1])*(x-roots[2]) )"
   ]
  },
  {
   "cell_type": "markdown",
   "metadata": {},
   "source": [
    "### Números Complexos\n",
    "\n",
    "Desde Newton, a palavra \"número\" tem sido usada para se referir a um dos seguintes tipos de objetos matemáticos: \n",
    "\n",
    "Os naturais $\\mathbb {N} $, os inteiros $\\mathbb {Z} $, os racionais $\\mathbb {Q} $ e os números reais $\\mathbb {R} $. \n",
    "\n",
    "Cada conjunto de números é associado a uma classe diferente de equações. \n",
    "\n",
    "Os números naturais $\\mathbb {N} $ aparecem como soluções da equação $ m + n = x $, onde $ m $ e $ n $ são números naturais (denotados $ m, n \\in \\mathbb {N} $). \n",
    "\n",
    "Os inteiros $\\mathbb {Z} $ são as soluções às equações da forma $ x + m = n $, onde $ m, n \\in \\mathbb {N} $. \n",
    "\n",
    "Os racionais $\\mathbb {Q} $ são necessários para resolver $ x $ em $ mx = n $, com $ m, n \\in \\mathbb {Z} $.\n",
    "\n",
    "As soluções para $ x ^ 2 = 2 $ são irracionais (então $ \\not \\in \\mathbb {Q} $) então precisamos de um conjunto maior que contém * todos * os números possíveis.\n",
    "\n",
    "Um padrão surge onde equações mais complicadas exigem invenção de novos tipos de números.\n",
    "\n",
    "Considere a equação quadrática $ x ^ 2 = -1 $. Não há soluções reais a esta equação, mas podemos definir um número imaginário $ i = \\ sqrt {-1} $ (denotado `I` in` SymPy`) que satisfaz esta equação:"
   ]
  },
  {
   "cell_type": "code",
   "execution_count": 18,
   "metadata": {},
   "outputs": [
    {
     "data": {
      "image/png": "[encoded data removed]",
      "text/latex": [
       "$\\displaystyle -1$"
      ],
      "text/plain": [
       "-1"
      ]
     },
     "execution_count": 18,
     "metadata": {},
     "output_type": "execute_result"
    }
   ],
   "source": [
    "I*I"
   ]
  },
  {
   "cell_type": "code",
   "execution_count": 19,
   "metadata": {},
   "outputs": [
    {
     "data": {
      "image/png": "[encoded data removed]",
      "text/latex": [
       "$\\displaystyle \\left[ - i, \\  i\\right]$"
      ],
      "text/plain": [
       "[-ⅈ, ⅈ]"
      ]
     },
     "execution_count": 19,
     "metadata": {},
     "output_type": "execute_result"
    }
   ],
   "source": [
    "x = symbols('x')\n",
    "solve( x**2 + 1 , x)"
   ]
  },
  {
   "cell_type": "markdown",
   "metadata": {},
   "source": [
    "As soluções são $ x = i $ e $ x = -i $ e, de fato, podemos verificar que $ i ^ 2 + 1 = 0 $ e $ (- i) ^ 2 + 1 = 0 $ desde $ i ^ 2 = -1 $.\n",
    "\n",
    "Os números complexos $\\mathbb {C} $ são definidos como $\\{a + bi \\, |\\, a, b \\in \\mathbb{R} \\} $. Números complexos contém uma parte real e uma parte imaginária:"
   ]
  },
  {
   "cell_type": "code",
   "execution_count": 20,
   "metadata": {},
   "outputs": [
    {
     "data": {
      "image/png": "[encoded data removed]",
      "text/latex": [
       "$\\displaystyle 4 + 3 i$"
      ],
      "text/plain": [
       "4 + 3⋅ⅈ"
      ]
     },
     "execution_count": 20,
     "metadata": {},
     "output_type": "execute_result"
    }
   ],
   "source": [
    "z = 4 + 3*I\n",
    "z"
   ]
  },
  {
   "cell_type": "markdown",
   "metadata": {},
   "source": [
    "### Exercício 7 - Pesquise na documentação do Sympy as funções necessárias para extrair o módulo (valor absoluto) de z e seu argumento."
   ]
  },
  {
   "cell_type": "markdown",
   "metadata": {},
   "source": [
    "Valor absoluto no Sympy utiliza [Abs](https://docs.sympy.org/latest/modules/functions/elementary.html?highlight=abs#sympy.functions.elementary.complexes.Abs)\n",
    "\n",
    "Argumento utiliza [arg](https://docs.sympy.org/latest/modules/functions/elementary.html?highlight=abs#arg)"
   ]
  },
  {
   "cell_type": "code",
   "execution_count": 21,
   "metadata": {},
   "outputs": [
    {
     "data": {
      "image/png": "[encoded data removed]",
      "text/latex": [
       "$\\displaystyle 5$"
      ],
      "text/plain": [
       "5"
      ]
     },
     "execution_count": 21,
     "metadata": {},
     "output_type": "execute_result"
    }
   ],
   "source": [
    "# Módulo\n",
    "Abs(z)"
   ]
  },
  {
   "cell_type": "code",
   "execution_count": 22,
   "metadata": {},
   "outputs": [
    {
     "data": {
      "image/png": "[encoded data removed]",
      "text/latex": [
       "$\\displaystyle \\operatorname{atan}{\\left(\\frac{3}{4} \\right)}$"
      ],
      "text/plain": [
       "atan(3/4)"
      ]
     },
     "execution_count": 22,
     "metadata": {},
     "output_type": "execute_result"
    }
   ],
   "source": [
    "# Argumento\n",
    "arg(z)"
   ]
  },
  {
   "cell_type": "markdown",
   "metadata": {},
   "source": [
    "### Exercício 8 - Desafio e Pesquisa\n",
    "\n",
    "[A fórmula de Euler] (https://en.wikipedia.org/wiki/Euler's_formula) mostra uma relação importante entre a função exponencial $ e ^ x $ e as funções trigonométricas $ sin (x) $ e $ cos (x) $:\n",
    "\n",
    "$$e^{ix} = \\cos x + i \\sin x.$$\n",
    "\n",
    "Para obter este resultado em `SymPy`, você deve especificar que o número $ x $ é real e também `expandir` a equação considerando números complexos.\n",
    "\n",
    "Pesquise sobre a fórmula de Euler e implemente a fórmula acima com Sympy. Algumas distribuições de máxima entropia que usamos em Machine Learning são baseadas na fórmula de Euler."
   ]
  },
  {
   "cell_type": "code",
   "execution_count": 23,
   "metadata": {},
   "outputs": [
    {
     "data": {
      "image/png": "[encoded data removed]",
      "text/latex": [
       "$\\displaystyle i \\sin{\\left(x \\right)} + \\cos{\\left(x \\right)}$"
      ],
      "text/plain": [
       "ⅈ⋅sin(x) + cos(x)"
      ]
     },
     "execution_count": 23,
     "metadata": {},
     "output_type": "execute_result"
    }
   ],
   "source": [
    "x = symbols('x', real = True)\n",
    "exp(I*x).expand(complex = True)"
   ]
  },
  {
   "cell_type": "markdown",
   "metadata": {},
   "source": [
    "### Exercício 9 - Resolva o sistema de equações lineares abaixo usando a função solve() do Sympy.\n",
    "\n",
    "### x + y + z = 1 \n",
    "### x + y + 2z = 3"
   ]
  },
  {
   "cell_type": "code",
   "execution_count": 24,
   "metadata": {},
   "outputs": [
    {
     "data": {
      "image/png": "[encoded data removed]",
      "text/latex": [
       "$\\displaystyle \\left\\{ x : - y - 1, \\  z : 2\\right\\}$"
      ],
      "text/plain": [
       "{x: -y - 1, z: 2}"
      ]
     },
     "execution_count": 24,
     "metadata": {},
     "output_type": "execute_result"
    }
   ],
   "source": [
    "x, y, z = symbols('x, y, z')\n",
    "equacao1 = x + y + z\n",
    "equacao2 = x + y + 2*z\n",
    "solve([equacao1-1, equacao2-3],(x,y,z))"
   ]
  },
  {
   "cell_type": "markdown",
   "metadata": {},
   "source": [
    "### Exercício 10 - Encontre o logaritmo de 1.5 na base 2, base 10 e o logaritmo natural\n",
    "\n",
    "Dica: O pacote math oferece funções para as 3 operações."
   ]
  },
  {
   "cell_type": "code",
   "execution_count": 25,
   "metadata": {},
   "outputs": [],
   "source": [
    "# Solução\n",
    "import math"
   ]
  },
  {
   "cell_type": "code",
   "execution_count": null,
   "metadata": {},
   "outputs": [],
   "source": [
    "# Base 2\n",
    "math.log2"
   ]
  },
  {
   "cell_type": "code",
   "execution_count": null,
   "metadata": {},
   "outputs": [],
   "source": [
    "# Base 10\n"
   ]
  },
  {
   "cell_type": "code",
   "execution_count": null,
   "metadata": {},
   "outputs": [],
   "source": [
    "# Logaritmo natural (base e)\n"
   ]
  },
  {
   "cell_type": "markdown",
   "metadata": {},
   "source": [
    "## Fim"
   ]
  }
 ],
 "metadata": {
  "kernelspec": {
   "display_name": "Python 3",
   "language": "python",
   "name": "python3"
  },
  "language_info": {
   "codemirror_mode": {
    "name": "ipython",
    "version": 3
   },
   "file_extension": ".py",
   "mimetype": "text/x-python",
   "name": "python",
   "nbconvert_exporter": "python",
   "pygments_lexer": "ipython3",
   "version": "3.7.6"
  }
 },
 "nbformat": 4,
 "nbformat_minor": 2
}
