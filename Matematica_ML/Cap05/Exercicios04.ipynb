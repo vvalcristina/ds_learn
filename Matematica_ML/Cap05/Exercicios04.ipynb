{
 "cells": [
  {
   "cell_type": "markdown",
   "metadata": {},
   "source": [
    "# <font color='blue'>Data Science Academy</font>\n",
    "# <font color='blue'>Matemática Para Machine Learning</font>"
   ]
  },
  {
   "cell_type": "markdown",
   "metadata": {},
   "source": [
    "## Lista de Exercícios  - Capítulo 5"
   ]
  },
  {
   "cell_type": "markdown",
   "metadata": {},
   "source": [
    "O objetivo desta lista de exercícios é você praticar os principais conceitos estudados neste capítulo, ao mesmo tempo que desenvolve suas habilidades em lógica de programação com a linguagem Python. \n",
    "\n",
    "Caso tenha dúvidas, isso é absolutamente normal e faça um trabalho de pesquisa a fim de relembrar o formato das operações matemáticas.\n",
    "\n",
    "Quando encontrar o formato de uma operação que resolva o exercício proposto, use a linguagem Python para representar esta operação. Em essência, é assim que aplicamos Matemática Para Machine Learning, construindo algoritmos e representando esses algoritmos em linguagem de programação."
   ]
  },
  {
   "cell_type": "markdown",
   "metadata": {},
   "source": [
    "A maioria das pessoas considera a Matemática e a Física, assustadoras bestas das quais é melhor manter a distância. Computadores, no entanto, podem nos ajudar a domar a complexidade e a aritmética tediosa das manipulações associadas a esses assuntos. De fato, Matemática e Física são muito mais acessíveis, uma vez que você tem o poder de computadores do seu lado.\n",
    "\n",
    "Divirta-se!!"
   ]
  },
  {
   "cell_type": "markdown",
   "metadata": {},
   "source": [
    "### Exercício 1 - Crie um algoritmo em Python para a multiplicação das duas matrizes abaixo. Seu algoritmo deve checar se as matrizes atendem às condições de multiplicação de matrizes estudadas neste capítulo.\n",
    "\n",
    "ATENÇÃO: NÃO use o NumPy (seria fácil demais). O objetivo é você testar sua lógica de programação para operação com matrizes."
   ]
  },
  {
   "cell_type": "code",
   "execution_count": 4,
   "metadata": {},
   "outputs": [
    {
     "name": "stdout",
     "output_type": "stream",
     "text": [
      "Matriz nula: [[0, 0], [0, 0], [0, 0], [0, 0]]\n",
      "\n",
      "Matriz resultante da multiplicação entre as duas matrizes:  [[12, 18], [27, 42], [42, 66], [57, 90]]\n"
     ]
    }
   ],
   "source": [
    "# Solução\n",
    "\n",
    "# Matrizes\n",
    "x = [[1,2,3],[4,5,6],[7,8,9],[10,11,12]]\n",
    "y = [[1,2],[1,2],[3,4]]\n",
    "\n",
    "def matrixmult (A, B):\n",
    "    linhaA = len(A)\n",
    "    colunaA=len(A[0])\n",
    "    linhaB = len(B)\n",
    "    colunaB = len(B[0])\n",
    "    \n",
    "    #Criando matriz nula\n",
    "    matrizNula = [[0 for row in range(colunaB)] for col in range (linhaA)]\n",
    "    print(\"Matriz nula:\", matrizNula)\n",
    "    \n",
    "    for i in range(linhaA):\n",
    "        for j in range(colunaB):\n",
    "            for k in range(colunaA):\n",
    "                matrizNula[i][j] += A[i][k] * B[k][j]\n",
    "    return matrizNula\n",
    "\n",
    "matriz_resultante = matrixmult(x, y)\n",
    "print(\"\\nMatriz resultante da multiplicação entre as duas matrizes: \", matriz_resultante)"
   ]
  },
  {
   "cell_type": "markdown",
   "metadata": {},
   "source": [
    "### Exercício 2 - Agora sim, usando NumPy, verifique se o algoritmo criado no exercício anterior realmente está correto validando o resultado com o que o NumPy oferece para multiplicação de matrizes."
   ]
  },
  {
   "cell_type": "code",
   "execution_count": 5,
   "metadata": {},
   "outputs": [
    {
     "data": {
      "text/plain": [
       "matrix([[12, 18],\n",
       "        [27, 42],\n",
       "        [42, 66],\n",
       "        [57, 90]])"
      ]
     },
     "execution_count": 5,
     "metadata": {},
     "output_type": "execute_result"
    }
   ],
   "source": [
    "# Solução\n",
    "\n",
    "import numpy as np\n",
    "\n",
    "# Matrizes\n",
    "x = [[1,2,3],[4,5,6],[7,8,9],[10,11,12]]\n",
    "y = [[1,2],[1,2],[3,4]]\n",
    "\n",
    "# Converte as listas Python para matrizes NumPy\n",
    "matrizX= np.matrix(x)\n",
    "matrizY= np.matrix(y)\n",
    "\n",
    "# Resultado\n",
    "matrizX * matrizY"
   ]
  },
  {
   "cell_type": "markdown",
   "metadata": {},
   "source": [
    "### Exercício 3 - Considerando as duas matrizes abaixo, crie um algoritmo para multiplicar as matrizes.\n",
    "\n",
    "Dica: Use loops aninhados para compreender a regra matemática e traduzir isso em linguagem de programação."
   ]
  },
  {
   "cell_type": "code",
   "execution_count": 8,
   "metadata": {},
   "outputs": [
    {
     "name": "stdout",
     "output_type": "stream",
     "text": [
      "[114, 160, 60, 27]\n",
      "[74, 97, 73, 14]\n",
      "[119, 157, 112, 23]\n"
     ]
    }
   ],
   "source": [
    "# Solução\n",
    "\n",
    "# Matriz 3x3 \n",
    "X = [[12,7,3],\n",
    "    [4 ,5,6],\n",
    "    [7 ,8,9]]\n",
    "\n",
    "# Matriz 3x4\n",
    "Y = [[5,8,1,2],\n",
    "    [6,7,3,0],\n",
    "    [4,5,9,1]]\n",
    "\n",
    "matrizNula = [[0,0,0,0],\n",
    "              [0,0,0,0],\n",
    "              [0,0,0,0]]\n",
    "\n",
    "for i in range(len(X)):\n",
    "    for j in range(len(Y[0])):\n",
    "        for k in range(len(Y)):\n",
    "            matrizNula[i][j] += X[i][k] * Y[k][j]\n",
    "            \n",
    "            \n",
    "for m in matrizNula:\n",
    "    print(m)"
   ]
  },
  {
   "cell_type": "markdown",
   "metadata": {},
   "source": [
    "### Exercício 4 - Realize a mesma operação anterior, mas desta vez usando list comprehension."
   ]
  },
  {
   "cell_type": "code",
   "execution_count": 9,
   "metadata": {},
   "outputs": [
    {
     "name": "stdout",
     "output_type": "stream",
     "text": [
      "[114, 160, 60, 27]\n",
      "[74, 97, 73, 14]\n",
      "[119, 157, 112, 23]\n"
     ]
    }
   ],
   "source": [
    "# Solução\n",
    "\n",
    "# Matriz 3x3 \n",
    "X = [[12,7,3],\n",
    "    [4 ,5,6],\n",
    "    [7 ,8,9]]\n",
    "\n",
    "# Matriz 3x4\n",
    "Y = [[5,8,1,2],\n",
    "    [6,7,3,0],\n",
    "    [4,5,9,1]]\n",
    "\n",
    "matrizNula = [[sum(a*b for a,b in zip(X_linha, Y_coluna)) for Y_coluna in zip (*Y)] for X_linha in X]\n",
    "\n",
    "for m in matrizNula:\n",
    "    print(m)"
   ]
  },
  {
   "cell_type": "markdown",
   "metadata": {},
   "source": [
    "### Exercício 5 - Considere as duas matrizes abaixo, x e y, e as duas diferentes soluções apresentadas para a multiplicação entre elas. Para cada execução, nós usamos o operador mágico %timeit para medir o tempo de execução. Você saberia explicar porque o tempo de execução é muito diferente? \n",
    "\n",
    "Dica: Essa costuma ser uma pergunta em entrevista para posição de Cientista de Dados."
   ]
  },
  {
   "cell_type": "code",
   "execution_count": 10,
   "metadata": {},
   "outputs": [
    {
     "name": "stdout",
     "output_type": "stream",
     "text": [
      "\n",
      "Tempo de execução na multiplicação customizada:\n",
      "7.5 µs ± 154 ns per loop (mean ± std. dev. of 7 runs, 100000 loops each)\n",
      "\n",
      "Tempo de execução na multiplicação via NumPy:\n",
      "4.15 µs ± 83.1 ns per loop (mean ± std. dev. of 7 runs, 100000 loops each)\n"
     ]
    }
   ],
   "source": [
    "# Solução\n",
    "\n",
    "import numpy as np\n",
    "\n",
    "x = [[1,2,3],[4,5,6],[7,8,9]]\n",
    "y = [[1,2,3],[1,2,3],[3,4,5]]\n",
    "\n",
    "def matrixmult (A, B):\n",
    "    rows_A = len(A)\n",
    "    cols_A = len(A[0])\n",
    "    rows_B = len(B)\n",
    "    cols_B = len(B[0])\n",
    "\n",
    "    if cols_A != rows_B:\n",
    "        print(\"Não é possível multiplicar essas duas matrizes. Dimensões incorretas.\")\n",
    "        return\n",
    "\n",
    "    # Crie a matriz de resultados como uma matriz nula\n",
    "    # Dimensões devem ser rows_A x cols_B\n",
    "    C = [[0 for row in range(cols_B)] for col in range(rows_A)]\n",
    "\n",
    "    for i in range(rows_A):\n",
    "        for j in range(cols_B):\n",
    "            for k in range(cols_A):\n",
    "                C[i][j] += A[i][k] * B[k][j]\n",
    "    return C\n",
    "\n",
    "# Tempo de execução na multiplicação customizada\n",
    "print(\"\\nTempo de execução na multiplicação customizada:\")\n",
    "%timeit matrixmult(x, y)\n",
    "\n",
    "\n",
    "# Tempo de execução na multiplicação via NumPy\n",
    "print(\"\\nTempo de execução na multiplicação via NumPy:\")\n",
    "%timeit np.multiply(x, y)"
   ]
  },
  {
   "cell_type": "markdown",
   "metadata": {},
   "source": [
    "### Exercício 6 - Calcule o determinante da matriz abaixo, usando NumPy."
   ]
  },
  {
   "cell_type": "code",
   "execution_count": 11,
   "metadata": {},
   "outputs": [
    {
     "name": "stdout",
     "output_type": "stream",
     "text": [
      "-2.0000000000000004\n"
     ]
    }
   ],
   "source": [
    "# Solução\n",
    "\n",
    "import numpy\n",
    "\n",
    "# Matriz\n",
    "M = [[1, 2], [3, 4]]\n",
    "\n",
    "# Determinante\n",
    "det = numpy.linalg.det(M)\n",
    "print (det)"
   ]
  },
  {
   "cell_type": "markdown",
   "metadata": {},
   "source": [
    "### Exercício 7 - Calcule a inversa da matriz abaixo usando NumPy."
   ]
  },
  {
   "cell_type": "code",
   "execution_count": 13,
   "metadata": {},
   "outputs": [
    {
     "name": "stdout",
     "output_type": "stream",
     "text": [
      "\n",
      "Solução 1:\n"
     ]
    },
    {
     "data": {
      "text/plain": [
       "matrix([[-2.5,  1.5],\n",
       "        [ 2. , -1. ]])"
      ]
     },
     "execution_count": 13,
     "metadata": {},
     "output_type": "execute_result"
    }
   ],
   "source": [
    "# Solução\n",
    "\n",
    "# Lista\n",
    "x = [[2,3],[4,5]]\n",
    "\n",
    "# Convertendo para matriz NumPy\n",
    "\n",
    "matriz = np.matrix(x)\n",
    "\n",
    "# Solução 1\n",
    "print(\"\\nSolução 1:\")\n",
    "matriz.I"
   ]
  },
  {
   "cell_type": "code",
   "execution_count": 16,
   "metadata": {},
   "outputs": [
    {
     "name": "stdout",
     "output_type": "stream",
     "text": [
      "\n",
      "Solução 2:\n"
     ]
    },
    {
     "data": {
      "text/plain": [
       "matrix([[-2.5,  1.5],\n",
       "        [ 2. , -1. ]])"
      ]
     },
     "execution_count": 16,
     "metadata": {},
     "output_type": "execute_result"
    }
   ],
   "source": [
    "# Solução 2\n",
    "print(\"\\nSolução 2:\")\n",
    "matriz = np.linalg.inv(matriz)\n",
    "matriz"
   ]
  },
  {
   "cell_type": "markdown",
   "metadata": {},
   "source": [
    "### Exercício 8 - O TensorFlow é o principal framework para Deep Learning. Usando uma de suas funções, encontre a inversa da matriz abaixo.\n",
    "\n",
    "Referência: https://www.tensorflow.org/api_guides/python/math_ops#Matrix_Math_Functions\n",
    "\n",
    "Dica: Pode ser necessário instalar o TensorFlow com o comando abaixo (descomente a linha e execute a célula)"
   ]
  },
  {
   "cell_type": "code",
   "execution_count": 17,
   "metadata": {},
   "outputs": [
    {
     "name": "stdout",
     "output_type": "stream",
     "text": [
      "Requirement already satisfied: tensorflow in /home/valeria.silva/anaconda3/lib/python3.7/site-packages (1.15.2)\n",
      "Requirement already satisfied: keras-preprocessing>=1.0.5 in /home/valeria.silva/anaconda3/lib/python3.7/site-packages (from tensorflow) (1.1.2)\n",
      "Requirement already satisfied: numpy<2.0,>=1.16.0 in /home/valeria.silva/anaconda3/lib/python3.7/site-packages (from tensorflow) (1.18.5)\n",
      "Requirement already satisfied: opt-einsum>=2.3.2 in /home/valeria.silva/anaconda3/lib/python3.7/site-packages (from tensorflow) (3.2.1)\n",
      "Requirement already satisfied: tensorflow-estimator==1.15.1 in /home/valeria.silva/anaconda3/lib/python3.7/site-packages (from tensorflow) (1.15.1)\n",
      "Requirement already satisfied: wrapt>=1.11.1 in /home/valeria.silva/anaconda3/lib/python3.7/site-packages (from tensorflow) (1.12.1)\n",
      "Requirement already satisfied: protobuf>=3.6.1 in /home/valeria.silva/anaconda3/lib/python3.7/site-packages (from tensorflow) (3.11.3)\n",
      "Requirement already satisfied: grpcio>=1.8.6 in /home/valeria.silva/anaconda3/lib/python3.7/site-packages (from tensorflow) (1.30.0)\n",
      "Requirement already satisfied: wheel>=0.26; python_version >= \"3\" in /home/valeria.silva/anaconda3/lib/python3.7/site-packages (from tensorflow) (0.34.2)\n",
      "Requirement already satisfied: google-pasta>=0.1.6 in /home/valeria.silva/anaconda3/lib/python3.7/site-packages (from tensorflow) (0.2.0)\n",
      "Requirement already satisfied: six>=1.10.0 in /home/valeria.silva/anaconda3/lib/python3.7/site-packages (from tensorflow) (1.15.0)\n",
      "Requirement already satisfied: gast==0.2.2 in /home/valeria.silva/anaconda3/lib/python3.7/site-packages (from tensorflow) (0.2.2)\n",
      "Requirement already satisfied: astor>=0.6.0 in /home/valeria.silva/anaconda3/lib/python3.7/site-packages (from tensorflow) (0.8.1)\n",
      "Requirement already satisfied: absl-py>=0.7.0 in /home/valeria.silva/anaconda3/lib/python3.7/site-packages (from tensorflow) (0.9.0)\n",
      "Requirement already satisfied: keras-applications>=1.0.8 in /home/valeria.silva/anaconda3/lib/python3.7/site-packages (from tensorflow) (1.0.8)\n",
      "Requirement already satisfied: tensorboard<1.16.0,>=1.15.0 in /home/valeria.silva/anaconda3/lib/python3.7/site-packages (from tensorflow) (1.15.0)\n",
      "Requirement already satisfied: termcolor>=1.1.0 in /home/valeria.silva/anaconda3/lib/python3.7/site-packages (from tensorflow) (1.1.0)\n",
      "Requirement already satisfied: setuptools in /home/valeria.silva/anaconda3/lib/python3.7/site-packages (from protobuf>=3.6.1->tensorflow) (47.3.1.post20200622)\n",
      "Requirement already satisfied: h5py in /home/valeria.silva/anaconda3/lib/python3.7/site-packages (from keras-applications>=1.0.8->tensorflow) (2.10.0)\n",
      "Requirement already satisfied: markdown>=2.6.8 in /home/valeria.silva/anaconda3/lib/python3.7/site-packages (from tensorboard<1.16.0,>=1.15.0->tensorflow) (3.2.2)\n",
      "Requirement already satisfied: werkzeug>=0.11.15 in /home/valeria.silva/anaconda3/lib/python3.7/site-packages (from tensorboard<1.16.0,>=1.15.0->tensorflow) (1.0.1)\n",
      "Requirement already satisfied: importlib-metadata; python_version < \"3.8\" in /home/valeria.silva/anaconda3/lib/python3.7/site-packages (from markdown>=2.6.8->tensorboard<1.16.0,>=1.15.0->tensorflow) (1.6.1)\n",
      "Requirement already satisfied: zipp>=0.5 in /home/valeria.silva/anaconda3/lib/python3.7/site-packages (from importlib-metadata; python_version < \"3.8\"->markdown>=2.6.8->tensorboard<1.16.0,>=1.15.0->tensorflow) (3.1.0)\n"
     ]
    }
   ],
   "source": [
    "!pip install tensorflow"
   ]
  },
  {
   "cell_type": "code",
   "execution_count": 18,
   "metadata": {},
   "outputs": [
    {
     "name": "stderr",
     "output_type": "stream",
     "text": [
      "/home/valeria.silva/anaconda3/lib/python3.7/importlib/_bootstrap.py:219: RuntimeWarning: numpy.ufunc size changed, may indicate binary incompatibility. Expected 216, got 192\n",
      "  return f(*args, **kwds)\n",
      "/home/valeria.silva/anaconda3/lib/python3.7/importlib/_bootstrap.py:219: RuntimeWarning: numpy.ufunc size changed, may indicate binary incompatibility. Expected 192 from C header, got 216 from PyObject\n",
      "  return f(*args, **kwds)\n",
      "/home/valeria.silva/anaconda3/lib/python3.7/importlib/_bootstrap.py:219: RuntimeWarning: numpy.ufunc size changed, may indicate binary incompatibility. Expected 192 from C header, got 216 from PyObject\n",
      "  return f(*args, **kwds)\n"
     ]
    },
    {
     "name": "stdout",
     "output_type": "stream",
     "text": [
      "Tensor(\"MatrixInverse:0\", shape=(2, 2), dtype=float64)\n"
     ]
    }
   ],
   "source": [
    "# Solução\n",
    "\n",
    "import tensorflow as tf\n",
    "\n",
    "x = [[2,3],[4,5]]\n",
    "\n",
    "x_cast = tf.cast(x, tf.float64)\n",
    "x_final = tf.linalg.inv(x_cast)\n",
    "\n",
    "print(x_final)"
   ]
  },
  {
   "cell_type": "markdown",
   "metadata": {},
   "source": [
    "### Exercício 9 (Desafio) - Crie um algoritmo de Machine Learning de Regressão Linear Simples, usando NumPy, que mostre a relação entre duas variáveis x e y (que são criadas abaixo usando valores aleatórios). Seu script deve conter as operações matemáticas de multiplicação de matrizes estudadas neste capítulo.\n",
    "\n",
    "Dica: Deixamos algumas linhas de código para ajudá-lo nesta tarefa."
   ]
  },
  {
   "cell_type": "code",
   "execution_count": 19,
   "metadata": {},
   "outputs": [
    {
     "name": "stdout",
     "output_type": "stream",
     "text": [
      "(200,)\n",
      "(200,)\n"
     ]
    },
    {
     "data": {
      "text/plain": [
       "<matplotlib.legend.Legend at 0x7fc7ec8bdc90>"
      ]
     },
     "execution_count": 19,
     "metadata": {},
     "output_type": "execute_result"
    },
    {
     "data": {
      "image/png": "[encoded data removed]",
      "text/plain": [
       "<Figure size 432x288 with 1 Axes>"
      ]
     },
     "metadata": {
      "needs_background": "light"
     },
     "output_type": "display_data"
    }
   ],
   "source": [
    "# Solução\n",
    "\n",
    "# Imports\n",
    "import numpy as np\n",
    "%matplotlib inline\n",
    "import matplotlib.pyplot as plt\n",
    "import warnings\n",
    "warnings.filterwarnings('ignore')\n",
    "\n",
    "# Variáveis x e y\n",
    "num_points = 200\n",
    "X_entrada = np.linspace(-2, 2, num_points)\n",
    "y_saida = X_entrada + np.random.normal(0, 1, num_points)\n",
    "\n",
    "# Print shapes\n",
    "print(np.shape(X_entrada))\n",
    "print(np.shape(y_saida))\n",
    "\n",
    "# Plot\n",
    "plt.plot(X_entrada, y_saida, 'r*', label='Dados')\n",
    "plt.legend(loc=\"upper left\", bbox_to_anchor=(1,1))"
   ]
  },
  {
   "cell_type": "code",
   "execution_count": 20,
   "metadata": {},
   "outputs": [
    {
     "data": {
      "text/plain": [
       "array([-2.        , -1.9798995 , -1.95979899, -1.93969849, -1.91959799,\n",
       "       -1.89949749, -1.87939698, -1.85929648, -1.83919598, -1.81909548,\n",
       "       -1.79899497, -1.77889447, -1.75879397, -1.73869347, -1.71859296,\n",
       "       -1.69849246, -1.67839196, -1.65829146, -1.63819095, -1.61809045,\n",
       "       -1.59798995, -1.57788945, -1.55778894, -1.53768844, -1.51758794,\n",
       "       -1.49748744, -1.47738693, -1.45728643, -1.43718593, -1.41708543,\n",
       "       -1.39698492, -1.37688442, -1.35678392, -1.33668342, -1.31658291,\n",
       "       -1.29648241, -1.27638191, -1.25628141, -1.2361809 , -1.2160804 ,\n",
       "       -1.1959799 , -1.1758794 , -1.15577889, -1.13567839, -1.11557789,\n",
       "       -1.09547739, -1.07537688, -1.05527638, -1.03517588, -1.01507538,\n",
       "       -0.99497487, -0.97487437, -0.95477387, -0.93467337, -0.91457286,\n",
       "       -0.89447236, -0.87437186, -0.85427136, -0.83417085, -0.81407035,\n",
       "       -0.79396985, -0.77386935, -0.75376884, -0.73366834, -0.71356784,\n",
       "       -0.69346734, -0.67336683, -0.65326633, -0.63316583, -0.61306533,\n",
       "       -0.59296482, -0.57286432, -0.55276382, -0.53266332, -0.51256281,\n",
       "       -0.49246231, -0.47236181, -0.45226131, -0.4321608 , -0.4120603 ,\n",
       "       -0.3919598 , -0.3718593 , -0.35175879, -0.33165829, -0.31155779,\n",
       "       -0.29145729, -0.27135678, -0.25125628, -0.23115578, -0.21105528,\n",
       "       -0.19095477, -0.17085427, -0.15075377, -0.13065327, -0.11055276,\n",
       "       -0.09045226, -0.07035176, -0.05025126, -0.03015075, -0.01005025,\n",
       "        0.01005025,  0.03015075,  0.05025126,  0.07035176,  0.09045226,\n",
       "        0.11055276,  0.13065327,  0.15075377,  0.17085427,  0.19095477,\n",
       "        0.21105528,  0.23115578,  0.25125628,  0.27135678,  0.29145729,\n",
       "        0.31155779,  0.33165829,  0.35175879,  0.3718593 ,  0.3919598 ,\n",
       "        0.4120603 ,  0.4321608 ,  0.45226131,  0.47236181,  0.49246231,\n",
       "        0.51256281,  0.53266332,  0.55276382,  0.57286432,  0.59296482,\n",
       "        0.61306533,  0.63316583,  0.65326633,  0.67336683,  0.69346734,\n",
       "        0.71356784,  0.73366834,  0.75376884,  0.77386935,  0.79396985,\n",
       "        0.81407035,  0.83417085,  0.85427136,  0.87437186,  0.89447236,\n",
       "        0.91457286,  0.93467337,  0.95477387,  0.97487437,  0.99497487,\n",
       "        1.01507538,  1.03517588,  1.05527638,  1.07537688,  1.09547739,\n",
       "        1.11557789,  1.13567839,  1.15577889,  1.1758794 ,  1.1959799 ,\n",
       "        1.2160804 ,  1.2361809 ,  1.25628141,  1.27638191,  1.29648241,\n",
       "        1.31658291,  1.33668342,  1.35678392,  1.37688442,  1.39698492,\n",
       "        1.41708543,  1.43718593,  1.45728643,  1.47738693,  1.49748744,\n",
       "        1.51758794,  1.53768844,  1.55778894,  1.57788945,  1.59798995,\n",
       "        1.61809045,  1.63819095,  1.65829146,  1.67839196,  1.69849246,\n",
       "        1.71859296,  1.73869347,  1.75879397,  1.77889447,  1.79899497,\n",
       "        1.81909548,  1.83919598,  1.85929648,  1.87939698,  1.89949749,\n",
       "        1.91959799,  1.93969849,  1.95979899,  1.9798995 ,  2.        ])"
      ]
     },
     "execution_count": 20,
     "metadata": {},
     "output_type": "execute_result"
    }
   ],
   "source": [
    "X_entrada"
   ]
  },
  {
   "cell_type": "code",
   "execution_count": 21,
   "metadata": {},
   "outputs": [
    {
     "data": {
      "text/plain": [
       "array([-1.16297383, -2.72983802, -1.61195902, -3.51519607, -0.61373525,\n",
       "       -2.63599836, -1.34185771, -1.4492016 , -2.15211523, -1.02245619,\n",
       "       -1.37988916, -1.20271926, -1.44126983, -2.79029194, -1.39049299,\n",
       "       -2.37073194, -1.79134955, -1.22343257, -2.40475962, -2.75718399,\n",
       "       -1.91050435, -1.7078513 , -3.06226106, -1.08543331, -1.95340374,\n",
       "       -2.89553787, -1.21798921, -0.96155629, -0.89139087, -3.30006571,\n",
       "       -1.51649035, -2.25143319, -2.36259255,  0.05848605, -2.14497328,\n",
       "        0.84572925, -2.4312591 , -1.40900686, -2.25136111, -1.88655981,\n",
       "       -1.46551374, -0.49638302, -3.23374938, -3.33487475, -1.4698544 ,\n",
       "        0.21742845, -1.30027189, -1.07726771, -0.88503319, -1.13225792,\n",
       "       -0.70393782, -1.0618185 , -0.4112311 , -2.69901249, -0.14451045,\n",
       "       -1.47073185, -0.28916031,  0.95835089, -0.27753959, -0.52208916,\n",
       "       -0.87036724, -1.70909997, -0.21235641, -1.53553461, -0.7795249 ,\n",
       "       -2.80034917, -0.66552449, -1.04889883, -1.78839272, -0.93967348,\n",
       "       -1.05054497,  0.7985023 ,  0.95669456, -1.58686594,  1.21423712,\n",
       "       -1.0716769 , -0.5507529 ,  0.3513215 , -0.02116983, -1.44792008,\n",
       "        0.34430953,  0.30814012, -1.20100886, -1.78402972, -0.1475225 ,\n",
       "       -0.33450317, -0.68123588, -1.44327062,  0.21736479, -0.65174479,\n",
       "        2.27514629,  0.16402567, -1.60736182,  0.0873838 ,  0.05290511,\n",
       "       -1.09835229, -0.72998408,  0.33538965, -0.58316743,  1.27978486,\n",
       "       -1.54507138, -2.04569891,  0.60808766, -0.30686161,  1.09488841,\n",
       "       -0.60590619, -0.4685033 , -0.40857151, -0.21337891,  1.93868579,\n",
       "       -0.26174379,  2.3181511 ,  0.36395532, -1.36792414,  0.35003405,\n",
       "        1.03942813, -0.54998311,  1.83364241,  2.05160293, -0.82176367,\n",
       "        2.06354769, -0.57903976,  1.18850124, -1.02412505,  1.03065985,\n",
       "        1.29181028,  1.72261324, -0.26022353,  2.09746497,  1.00871882,\n",
       "       -0.95637783,  1.06393193,  0.06314392,  0.42981661, -0.20444861,\n",
       "        0.70598415,  2.04494124,  1.69465033, -0.26524816,  0.28388704,\n",
       "        0.68974947,  2.54121385,  0.94339932,  0.5749292 ,  0.4814104 ,\n",
       "        1.67747762, -0.06143371, -0.2673234 ,  1.43967271, -0.02752093,\n",
       "        1.9939115 ,  2.65050651, -0.21238169, -0.19310941,  0.52218203,\n",
       "        2.32484513,  0.84823428, -1.42956293, -1.55327462,  2.4692274 ,\n",
       "        0.88488975,  1.84838708,  1.43774521,  3.8899455 , -0.16339458,\n",
       "        0.17415924, -0.16488088, -0.09945091,  0.98073555,  2.17082069,\n",
       "        1.26143784,  1.3511694 ,  0.85389537,  0.43887332,  0.86758763,\n",
       "        1.12755052,  1.48359464,  1.88137152,  2.46318063,  1.52836523,\n",
       "        1.16476378,  1.83773008,  1.81125685,  0.84475136,  1.85009684,\n",
       "        2.45823881,  2.62584809,  1.76579565,  0.654676  ,  3.1081216 ,\n",
       "        3.67967151,  1.49369226,  1.68589731,  1.96391949, -0.23840263,\n",
       "        3.18588987,  1.60557576,  1.62495392,  1.67781823,  2.91447143])"
      ]
     },
     "execution_count": 21,
     "metadata": {},
     "output_type": "execute_result"
    }
   ],
   "source": [
    "y_saida"
   ]
  },
  {
   "cell_type": "code",
   "execution_count": 22,
   "metadata": {},
   "outputs": [
    {
     "ename": "NameError",
     "evalue": "name 'solution' is not defined",
     "output_type": "error",
     "traceback": [
      "\u001b[0;31m---------------------------------------------------------------------------\u001b[0m",
      "\u001b[0;31mNameError\u001b[0m                                 Traceback (most recent call last)",
      "\u001b[0;32m<ipython-input-22-38c2c0eca320>\u001b[0m in \u001b[0;36m<module>\u001b[0;34m\u001b[0m\n\u001b[1;32m     20\u001b[0m \u001b[0;34m\u001b[0m\u001b[0m\n\u001b[1;32m     21\u001b[0m \u001b[0;31m# Coeficientes\u001b[0m\u001b[0;34m\u001b[0m\u001b[0;34m\u001b[0m\u001b[0;34m\u001b[0m\u001b[0m\n\u001b[0;32m---> 22\u001b[0;31m \u001b[0mw\u001b[0m\u001b[0;34m,\u001b[0m \u001b[0mb\u001b[0m \u001b[0;34m=\u001b[0m \u001b[0msolution\u001b[0m\u001b[0;34m\u001b[0m\u001b[0;34m\u001b[0m\u001b[0m\n\u001b[0m\u001b[1;32m     23\u001b[0m \u001b[0;34m\u001b[0m\u001b[0m\n\u001b[1;32m     24\u001b[0m \u001b[0;31m# Previsões\u001b[0m\u001b[0;34m\u001b[0m\u001b[0;34m\u001b[0m\u001b[0;34m\u001b[0m\u001b[0m\n",
      "\u001b[0;31mNameError\u001b[0m: name 'solution' is not defined"
     ]
    }
   ],
   "source": [
    "# Algoritmo\n",
    "\n",
    "# Matriz de 1s para servir como as previsões\n",
    "\n",
    "\n",
    "# Convertendo as variáveis para matrizes NumPy\n",
    "\n",
    "\n",
    "# Print shapes\n",
    "\n",
    "\n",
    "# Encontrando a transposta das matrizes e aplicando o dot product\n",
    "\n",
    "\n",
    "# Print shapes\n",
    "\n",
    "\n",
    "# Inversa\n",
    "\n",
    "\n",
    "# Coeficientes\n",
    "w, b = solution\n",
    "\n",
    "# Previsões\n",
    "y_pred = w[0]*X_entrada + b[0]\n",
    "print(y_pred)\n",
    "\n",
    "# Plot\n",
    "plt.plot(X_entrada, y_saida, 'r*', label='Dados')\n",
    "plt.plot(X_entrada, y_pred, 'b', label='Linha de Regressão - Previsões NumPy')\n",
    "plt.legend(loc=\"upper left\", bbox_to_anchor=(1,1))"
   ]
  },
  {
   "cell_type": "markdown",
   "metadata": {},
   "source": [
    "### Exercício 10 (Super Desafio) - Mesmo exercício anterior, mas agora com o TensorFlow.\n",
    "\n",
    "Dica: Deixamos algumas linhas de código para ajudá-lo nesta tarefa."
   ]
  },
  {
   "cell_type": "code",
   "execution_count": null,
   "metadata": {},
   "outputs": [],
   "source": [
    "# Solução\n",
    "\n",
    "# Import\n",
    "import tensorflow as tf\n",
    "\n",
    "# Variáveis x e y\n",
    "num_points = 200\n",
    "X_entrada = np.linspace(-2, 2, num_points)\n",
    "y_saida = X_entrada + np.random.normal(0, 1, num_points)\n",
    "\n",
    "# Matrizes (tensores com o TF)\n",
    "X_tensor = tf.constant(X_matrix)\n",
    "y_tensor = tf.constant(y_matrix)\n",
    "\n",
    "# Transposta\n",
    "\n",
    "\n",
    "# Solução\n",
    "\n",
    "\n",
    "# Abre a sessão TF\n",
    "\n",
    "\n",
    "# Encontra os coeficeintes\n",
    "w_tf, b_tf = soln_tf\n",
    "\n",
    "# Previsões\n",
    "y_pred_tf = w_tf[0]*X_entrada + b_tf[0]\n",
    "\n",
    "# Plot\n",
    "plt.plot(X_entrada, y_saida, 'r*', label='Dados')\n",
    "plt.plot(X_entrada, y_pred, 'b', label='Linha de Regressão - Previsões NumPy')\n",
    "plt.plot(X_entrada, y_pred_tf, 'g', label='Linha de Regressão - Previsões TF')\n",
    "plt.legend(loc=\"upper left\", bbox_to_anchor=(1,1))"
   ]
  },
  {
   "cell_type": "markdown",
   "metadata": {},
   "source": [
    "## Fim"
   ]
  }
 ],
 "metadata": {
  "kernelspec": {
   "display_name": "Python 3",
   "language": "python",
   "name": "python3"
  },
  "language_info": {
   "codemirror_mode": {
    "name": "ipython",
    "version": 3
   },
   "file_extension": ".py",
   "mimetype": "text/x-python",
   "name": "python",
   "nbconvert_exporter": "python",
   "pygments_lexer": "ipython3",
   "version": "3.7.6"
  }
 },
 "nbformat": 4,
 "nbformat_minor": 4
}
